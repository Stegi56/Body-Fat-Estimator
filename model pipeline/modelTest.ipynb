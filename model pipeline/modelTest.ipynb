{
 "cells": [
  {
   "cell_type": "code",
   "execution_count": 42,
   "metadata": {
    "collapsed": true
   },
   "outputs": [],
   "source": [
    "import numpy as np\n",
    "import pandas as pd\n",
    "import tensorflow as tf\n",
    "import plotly.express as px\n",
    "import seaborn as sns\n",
    "from matplotlib import pyplot as plt"
   ]
  },
  {
   "cell_type": "code",
   "execution_count": 43,
   "outputs": [
    {
     "name": "stdout",
     "output_type": "stream",
     "text": [
      "Data set loaded. Num examples:  252\n",
      "Made training and test sets\n"
     ]
    }
   ],
   "source": [
    "import pandas as pd\n",
    "import numpy as np\n",
    "from keras.models import load_model\n",
    "\n",
    "# Load the Keras model\n",
    "model = load_model('BodyFatEstimator.h5')\n",
    "\n",
    "# Load the dataset into a pandas DataFrame\n",
    "dataFrame = pd.read_csv(\"bodyfat.csv\")\n",
    "\n",
    "# # Create a new row as a dictionary\n",
    "# newRow = {\n",
    "#     \"Weight\": 204.6, \"Height\": 72, \"Neck\": 35, \"Chest\": 98, \"Abdomen\": 84,\n",
    "#     \"Hip\": 91, \"Thigh\": 55, \"Knee\": 38, \"Ankle\": 20, \"Biceps\": 32,\n",
    "#     \"Forearm\": 27, \"Wrist\": 16, \"BodyFat\":16.4\n",
    "# }\n",
    "#\n",
    "# # Append the new row to the DataFrame\n",
    "# dataFrame = pd.concat([dataFrame, pd.DataFrame([newRow])], ignore_index=True)\n",
    "\n",
    "print(\"Data set loaded. Num examples: \", len(dataFrame))\n",
    "\n",
    "# Perform additional operations\n",
    "dataFrame['BMI'] = (dataFrame['Weight'] * dataFrame['Weight']) / dataFrame['Height']\n",
    "dataFrame['AbdomenNeckRatio'] = dataFrame['Abdomen'] / dataFrame['Neck']\n",
    "dataFrame['ForearmWristRatio'] = dataFrame['Forearm'] / dataFrame['Wrist']\n",
    "dataFrame['BicepsWristRatio'] = dataFrame['Biceps'] / dataFrame['Wrist']\n",
    "dataFrame['ThighAnkleRatio'] = dataFrame['Thigh'] / dataFrame['Ankle']\n",
    "\n",
    "\n",
    "print(\"Made training and test sets\")"
   ],
   "metadata": {
    "collapsed": false
   }
  },
  {
   "cell_type": "code",
   "execution_count": 44,
   "outputs": [
    {
     "name": "stdout",
     "output_type": "stream",
     "text": [
      "Preprocessing layers defined.\n"
     ]
    }
   ],
   "source": [
    "inputs = {\n",
    "    'BMI':\n",
    "        tf.keras.layers.Input(shape=(1,), dtype=tf.float32,\n",
    "                              name='BMI'),\n",
    "    'AbdomenNeckRatio':\n",
    "        tf.keras.layers.Input(shape=(1,), dtype=tf.float32,\n",
    "                              name='AbdomenNeckRatio'),\n",
    "    'BicepsWristRatio':\n",
    "        tf.keras.layers.Input(shape=(1,), dtype=tf.float32,\n",
    "                              name='BicepsWristRatio'),\n",
    "    'Abdomen':\n",
    "        tf.keras.layers.Input(shape=(1,), dtype=tf.float32,\n",
    "                              name='Abdomen'),\n",
    "    'ThighAnkleRatio':\n",
    "        tf.keras.layers.Input(shape=(1,), dtype=tf.float32,\n",
    "                              name='ThighAnkleRatio'),\n",
    "    'Chest':\n",
    "        tf.keras.layers.Input(shape=(1,), dtype=tf.float32,\n",
    "                              name='Chest'),\n",
    "    'Forearm':\n",
    "        tf.keras.layers.Input(shape=(1,), dtype=tf.float32,\n",
    "                              name='Forearm'),\n",
    "    'Hip':\n",
    "        tf.keras.layers.Input(shape=(1,), dtype=tf.float32,\n",
    "                              name='Hip'),\n",
    "    'Knee':\n",
    "        tf.keras.layers.Input(shape=(1,), dtype=tf.float32,\n",
    "                              name='Knee'),\n",
    "}\n",
    "\n",
    "# Useless Features:\n",
    "# Abdomen\n",
    "\n",
    "# Normalization for BMI\n",
    "bmi = tf.keras.layers.Normalization(\n",
    "    name='normalization_bmi',\n",
    "    axis=None\n",
    ")\n",
    "bmi.adapt(dataFrame['BMI'])\n",
    "bmi_input = tf.keras.Input(shape=(1,), name='BMI')\n",
    "bmi_output = bmi(bmi_input)\n",
    "\n",
    "# Normalization for AbdomenNeckRatio\n",
    "abdomen_neck_ratio = tf.keras.layers.Normalization(\n",
    "    name='normalization_abdomen_neck_ratio',\n",
    "    axis=None\n",
    ")\n",
    "abdomen_neck_ratio.adapt(dataFrame['AbdomenNeckRatio'])\n",
    "abdomen_neck_ratio_input = tf.keras.Input(shape=(1,), name='AbdomenNeckRatio')\n",
    "abdomen_neck_ratio_output = abdomen_neck_ratio(abdomen_neck_ratio_input)\n",
    "\n",
    "# Normalization for BicepsWristRatio\n",
    "biceps_wrist_ratio = tf.keras.layers.Normalization(\n",
    "    name='normalization_biceps_wrist_ratio',\n",
    "    axis=None\n",
    ")\n",
    "biceps_wrist_ratio.adapt(dataFrame['BicepsWristRatio'])\n",
    "biceps_wrist_ratio_input = tf.keras.Input(shape=(1,), name='BicepsWristRatio')\n",
    "biceps_wrist_ratio_output = biceps_wrist_ratio(biceps_wrist_ratio_input)\n",
    "\n",
    "# Concatenate our inputs into a single tensor.\n",
    "preprocessing_layers = tf.keras.layers.Concatenate()(list(inputs.values()))\n",
    "\n",
    "# Normalization for Abdomen\n",
    "abdomen = tf.keras.layers.Normalization(\n",
    "    name='normalization_abdomen',\n",
    "    axis=None\n",
    ")\n",
    "abdomen.adapt(dataFrame['Abdomen'])\n",
    "abdomen_input = tf.keras.Input(shape=(1,), name='Abdomen')\n",
    "abdomen_output = abdomen(abdomen_input)\n",
    "\n",
    "# Normalization for ThighAnkleRatio\n",
    "thigh_ankle_ratio = tf.keras.layers.Normalization(\n",
    "    name='normalization_thigh_ankle_ratio',\n",
    "    axis=None\n",
    ")\n",
    "thigh_ankle_ratio.adapt(dataFrame['ThighAnkleRatio'])\n",
    "thigh_ankle_ratio_input = tf.keras.Input(shape=(1,), name='ThighAnkleRatio')\n",
    "thigh_ankle_ratio_output = thigh_ankle_ratio(thigh_ankle_ratio_input)\n",
    "\n",
    "# Normalization for Chest\n",
    "chest = tf.keras.layers.Normalization(\n",
    "    name='normalization_chest',\n",
    "    axis=None\n",
    ")\n",
    "chest.adapt(dataFrame['Chest'])\n",
    "chest_input = tf.keras.Input(shape=(1,), name='Chest')\n",
    "chest_output = chest(chest_input)\n",
    "\n",
    "# Normalization for Forearm\n",
    "forearm = tf.keras.layers.Normalization(\n",
    "    name='normalization_forearm',\n",
    "    axis=None\n",
    ")\n",
    "forearm.adapt(dataFrame['Forearm'])\n",
    "forearm_input = tf.keras.Input(shape=(1,), name='Forearm')\n",
    "forearm_output = forearm(forearm_input)\n",
    "\n",
    "# Normalization for Hip\n",
    "hip = tf.keras.layers.Normalization(\n",
    "    name='normalization_hip',\n",
    "    axis=None\n",
    ")\n",
    "hip.adapt(dataFrame['Hip'])\n",
    "hip_input = tf.keras.Input(shape=(1,), name='Hip')\n",
    "hip_output = hip(hip_input)\n",
    "\n",
    "# Normalization for Knee\n",
    "knee = tf.keras.layers.Normalization(\n",
    "    name='normalization_knee',\n",
    "    axis=None\n",
    ")\n",
    "knee.adapt(dataFrame['Knee'])\n",
    "knee_input = tf.keras.Input(shape=(1,), name='Knee')\n",
    "knee_output = knee(knee_input)\n",
    "\n",
    "print(\"Preprocessing layers defined.\")"
   ],
   "metadata": {
    "collapsed": false
   }
  },
  {
   "cell_type": "code",
   "execution_count": 45,
   "outputs": [],
   "source": [
    "# Create Normalization layers\n",
    "train_bodyfat_normalized = tf.keras.layers.Normalization(axis=None)\n",
    "train_bodyfat_normalized.adapt(\n",
    "    np.array(dataFrame['BodyFat']))\n",
    "\n",
    "test_bodyfat_normalized = tf.keras.layers.Normalization(axis=None)\n",
    "test_bodyfat_normalized.adapt(\n",
    "    np.array(dataFrame['BodyFat']))"
   ],
   "metadata": {
    "collapsed": false
   }
  },
  {
   "cell_type": "code",
   "execution_count": 49,
   "outputs": [
    {
     "name": "stdout",
     "output_type": "stream",
     "text": [
      "mean [19.150793]\n",
      "variance [69.757904]\n"
     ]
    },
    {
     "data": {
      "text/plain": "     Row Predicted Body Fat Correct Body Fat Difference +-\n0      0             [16.3]           [12.3]         [4.0]\n1      1             [11.4]            [6.1]         [5.3]\n2      2             [18.9]           [25.3]        [-6.4]\n3      3             [14.6]           [10.4]         [4.2]\n4      4             [24.7]           [28.7]        [-4.0]\n..   ...                ...              ...           ...\n249  249             [27.3]           [29.3]        [-2.0]\n250  250             [26.0]           [26.0]         [0.0]\n251  251             [26.8]           [31.9]        [-5.1]\n252  252              [nan]           [16.4]         [nan]\n253  253              [nan]           [16.4]         [nan]\n\n[254 rows x 4 columns]",
      "text/html": "<div>\n<style scoped>\n    .dataframe tbody tr th:only-of-type {\n        vertical-align: middle;\n    }\n\n    .dataframe tbody tr th {\n        vertical-align: top;\n    }\n\n    .dataframe thead th {\n        text-align: right;\n    }\n</style>\n<table border=\"1\" class=\"dataframe\">\n  <thead>\n    <tr style=\"text-align: right;\">\n      <th></th>\n      <th>Row</th>\n      <th>Predicted Body Fat</th>\n      <th>Correct Body Fat</th>\n      <th>Difference +-</th>\n    </tr>\n  </thead>\n  <tbody>\n    <tr>\n      <th>0</th>\n      <td>0</td>\n      <td>[16.3]</td>\n      <td>[12.3]</td>\n      <td>[4.0]</td>\n    </tr>\n    <tr>\n      <th>1</th>\n      <td>1</td>\n      <td>[11.4]</td>\n      <td>[6.1]</td>\n      <td>[5.3]</td>\n    </tr>\n    <tr>\n      <th>2</th>\n      <td>2</td>\n      <td>[18.9]</td>\n      <td>[25.3]</td>\n      <td>[-6.4]</td>\n    </tr>\n    <tr>\n      <th>3</th>\n      <td>3</td>\n      <td>[14.6]</td>\n      <td>[10.4]</td>\n      <td>[4.2]</td>\n    </tr>\n    <tr>\n      <th>4</th>\n      <td>4</td>\n      <td>[24.7]</td>\n      <td>[28.7]</td>\n      <td>[-4.0]</td>\n    </tr>\n    <tr>\n      <th>...</th>\n      <td>...</td>\n      <td>...</td>\n      <td>...</td>\n      <td>...</td>\n    </tr>\n    <tr>\n      <th>249</th>\n      <td>249</td>\n      <td>[27.3]</td>\n      <td>[29.3]</td>\n      <td>[-2.0]</td>\n    </tr>\n    <tr>\n      <th>250</th>\n      <td>250</td>\n      <td>[26.0]</td>\n      <td>[26.0]</td>\n      <td>[0.0]</td>\n    </tr>\n    <tr>\n      <th>251</th>\n      <td>251</td>\n      <td>[26.8]</td>\n      <td>[31.9]</td>\n      <td>[-5.1]</td>\n    </tr>\n    <tr>\n      <th>252</th>\n      <td>252</td>\n      <td>[nan]</td>\n      <td>[16.4]</td>\n      <td>[nan]</td>\n    </tr>\n    <tr>\n      <th>253</th>\n      <td>253</td>\n      <td>[nan]</td>\n      <td>[16.4]</td>\n      <td>[nan]</td>\n    </tr>\n  </tbody>\n</table>\n<p>254 rows × 4 columns</p>\n</div>"
     },
     "execution_count": 49,
     "metadata": {},
     "output_type": "execute_result"
    }
   ],
   "source": [
    "# Create an empty DataFrame to store the results\n",
    "result_table = pd.DataFrame(columns=['Row', 'Predicted Body Fat', 'Correct Body Fat', 'Difference +-'])\n",
    "\n",
    "# Get the mean and variance from the normalization layer\n",
    "mean = train_bodyfat_normalized.mean.numpy()\n",
    "variance = train_bodyfat_normalized.variance.numpy()\n",
    "\n",
    "print(\"mean \" + str(mean))\n",
    "print(\"variance \" + str(variance))\n",
    "\n",
    "\n",
    "# Iterate over the rows of the test dataframe\n",
    "for index, row in dataFrame.iterrows():\n",
    "    test_features = {name: np.array([value]) for name, value in row.items() if name != 'BodyFat'}\n",
    "\n",
    "    # Get the correct label for the current row\n",
    "    correct_label = np.array([row['BodyFat']])\n",
    "    correct_label_normalized = (correct_label - mean) / np.sqrt(variance)\n",
    "\n",
    "    # Make predictions using the model\n",
    "    predictions = model.predict(test_features, verbose=0)\n",
    "\n",
    "    predicted_bodyfat_normalized = predictions['dense_output'][0][0]\n",
    "    predicted_bodyfat = (predicted_bodyfat_normalized * np.sqrt(variance)) + mean\n",
    "    predicted_bodyfat = np.round(predicted_bodyfat, decimals=1)\n",
    "\n",
    "    actual_bodyfat = np.round((correct_label_normalized * np.sqrt(variance)) + mean, decimals=1)\n",
    "    difference = np.round(predicted_bodyfat - actual_bodyfat, 1)\n",
    "    row_data = pd.DataFrame({'Row': [index],\n",
    "                             'Predicted Body Fat': [predicted_bodyfat],\n",
    "                             'Correct Body Fat': [actual_bodyfat],\n",
    "                             'Difference +-': [difference]})\n",
    "\n",
    "    # Concatenate the row DataFrame to the result_table\n",
    "    result_table = pd.concat([result_table, row_data], ignore_index=True)\n",
    "\n",
    "pd.options.display.max_rows = 100\n",
    "result_table"
   ],
   "metadata": {
    "collapsed": false
   }
  }
 ],
 "metadata": {
  "kernelspec": {
   "display_name": "Python 3",
   "language": "python",
   "name": "python3"
  },
  "language_info": {
   "codemirror_mode": {
    "name": "ipython",
    "version": 2
   },
   "file_extension": ".py",
   "mimetype": "text/x-python",
   "name": "python",
   "nbconvert_exporter": "python",
   "pygments_lexer": "ipython2",
   "version": "2.7.6"
  }
 },
 "nbformat": 4,
 "nbformat_minor": 0
}
